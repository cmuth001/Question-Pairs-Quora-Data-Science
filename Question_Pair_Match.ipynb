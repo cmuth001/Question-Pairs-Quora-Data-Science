{
 "cells": [
  {
   "cell_type": "code",
   "execution_count": 1,
   "metadata": {},
   "outputs": [],
   "source": [
    "import numpy as np # linear algebra\n",
    "import pandas as pd # data processing, CSV file I/O (e.g. pd.read_csv)\n",
    "import os\n",
    "import gc\n",
    "import matplotlib.pyplot as plt\n",
    "import seaborn as sns\n",
    "%matplotlib inline\n",
    "\n",
    "import warnings\n",
    "warnings.filterwarnings(\"ignore\")\n",
    "warnings.warn(\"deprecated\", DeprecationWarning)"
   ]
  },
  {
   "cell_type": "markdown",
   "metadata": {},
   "source": [
    "### Train Data exploration and visualization"
   ]
  },
  {
   "cell_type": "code",
   "execution_count": 2,
   "metadata": {},
   "outputs": [
    {
     "data": {
      "text/plain": [
       "(404290, 6)"
      ]
     },
     "execution_count": 2,
     "metadata": {},
     "output_type": "execute_result"
    }
   ],
   "source": [
    "df_train = pd.read_csv('train.csv')\n",
    "df_train.shape"
   ]
  },
  {
   "cell_type": "code",
   "execution_count": 3,
   "metadata": {},
   "outputs": [],
   "source": [
    "\n",
    "# df_train = df_train.loc[np.random.random_integers(0, len(df_train), 5000)]\n",
    "# len(df_train)"
   ]
  },
  {
   "cell_type": "code",
   "execution_count": 4,
   "metadata": {},
   "outputs": [],
   "source": [
    "qids = pd.Series(df_train['qid1'].tolist()+df_train['qid2'].tolist())"
   ]
  },
  {
   "cell_type": "code",
   "execution_count": 5,
   "metadata": {},
   "outputs": [
    {
     "data": {
      "text/plain": [
       "111780"
      ]
     },
     "execution_count": 5,
     "metadata": {},
     "output_type": "execute_result"
    }
   ],
   "source": [
    "unique_qid = set(qids)\n",
    "unique_qsts = len(unique_qid)\n",
    "qs_morethan_onetime= sum(qids.value_counts()>1)\n",
    "qs_morethan_onetime"
   ]
  },
  {
   "cell_type": "code",
   "execution_count": 6,
   "metadata": {},
   "outputs": [
    {
     "data": {
      "text/html": [
       "<div>\n",
       "<style scoped>\n",
       "    .dataframe tbody tr th:only-of-type {\n",
       "        vertical-align: middle;\n",
       "    }\n",
       "\n",
       "    .dataframe tbody tr th {\n",
       "        vertical-align: top;\n",
       "    }\n",
       "\n",
       "    .dataframe thead th {\n",
       "        text-align: right;\n",
       "    }\n",
       "</style>\n",
       "<table border=\"1\" class=\"dataframe\">\n",
       "  <thead>\n",
       "    <tr style=\"text-align: right;\">\n",
       "      <th></th>\n",
       "      <th>id</th>\n",
       "      <th>qid1</th>\n",
       "      <th>qid2</th>\n",
       "      <th>question1</th>\n",
       "      <th>question2</th>\n",
       "      <th>is_duplicate</th>\n",
       "    </tr>\n",
       "  </thead>\n",
       "  <tbody>\n",
       "    <tr>\n",
       "      <th>0</th>\n",
       "      <td>0</td>\n",
       "      <td>1</td>\n",
       "      <td>2</td>\n",
       "      <td>What is the step by step guide to invest in sh...</td>\n",
       "      <td>What is the step by step guide to invest in sh...</td>\n",
       "      <td>0</td>\n",
       "    </tr>\n",
       "    <tr>\n",
       "      <th>1</th>\n",
       "      <td>1</td>\n",
       "      <td>3</td>\n",
       "      <td>4</td>\n",
       "      <td>What is the story of Kohinoor (Koh-i-Noor) Dia...</td>\n",
       "      <td>What would happen if the Indian government sto...</td>\n",
       "      <td>0</td>\n",
       "    </tr>\n",
       "    <tr>\n",
       "      <th>2</th>\n",
       "      <td>2</td>\n",
       "      <td>5</td>\n",
       "      <td>6</td>\n",
       "      <td>How can I increase the speed of my internet co...</td>\n",
       "      <td>How can Internet speed be increased by hacking...</td>\n",
       "      <td>0</td>\n",
       "    </tr>\n",
       "    <tr>\n",
       "      <th>3</th>\n",
       "      <td>3</td>\n",
       "      <td>7</td>\n",
       "      <td>8</td>\n",
       "      <td>Why am I mentally very lonely? How can I solve...</td>\n",
       "      <td>Find the remainder when [math]23^{24}[/math] i...</td>\n",
       "      <td>0</td>\n",
       "    </tr>\n",
       "    <tr>\n",
       "      <th>4</th>\n",
       "      <td>4</td>\n",
       "      <td>9</td>\n",
       "      <td>10</td>\n",
       "      <td>Which one dissolve in water quikly sugar, salt...</td>\n",
       "      <td>Which fish would survive in salt water?</td>\n",
       "      <td>0</td>\n",
       "    </tr>\n",
       "  </tbody>\n",
       "</table>\n",
       "</div>"
      ],
      "text/plain": [
       "   id  qid1  qid2                                          question1  \\\n",
       "0   0     1     2  What is the step by step guide to invest in sh...   \n",
       "1   1     3     4  What is the story of Kohinoor (Koh-i-Noor) Dia...   \n",
       "2   2     5     6  How can I increase the speed of my internet co...   \n",
       "3   3     7     8  Why am I mentally very lonely? How can I solve...   \n",
       "4   4     9    10  Which one dissolve in water quikly sugar, salt...   \n",
       "\n",
       "                                           question2  is_duplicate  \n",
       "0  What is the step by step guide to invest in sh...             0  \n",
       "1  What would happen if the Indian government sto...             0  \n",
       "2  How can Internet speed be increased by hacking...             0  \n",
       "3  Find the remainder when [math]23^{24}[/math] i...             0  \n",
       "4            Which fish would survive in salt water?             0  "
      ]
     },
     "execution_count": 6,
     "metadata": {},
     "output_type": "execute_result"
    }
   ],
   "source": [
    "  df_train.head()"
   ]
  },
  {
   "cell_type": "code",
   "execution_count": 7,
   "metadata": {},
   "outputs": [
    {
     "data": {
      "text/html": [
       "<div>\n",
       "<style scoped>\n",
       "    .dataframe tbody tr th:only-of-type {\n",
       "        vertical-align: middle;\n",
       "    }\n",
       "\n",
       "    .dataframe tbody tr th {\n",
       "        vertical-align: top;\n",
       "    }\n",
       "\n",
       "    .dataframe thead th {\n",
       "        text-align: right;\n",
       "    }\n",
       "</style>\n",
       "<table border=\"1\" class=\"dataframe\">\n",
       "  <thead>\n",
       "    <tr style=\"text-align: right;\">\n",
       "      <th></th>\n",
       "      <th>id</th>\n",
       "      <th>qid1</th>\n",
       "      <th>qid2</th>\n",
       "      <th>question1</th>\n",
       "      <th>question2</th>\n",
       "      <th>is_duplicate</th>\n",
       "    </tr>\n",
       "  </thead>\n",
       "  <tbody>\n",
       "    <tr>\n",
       "      <th>105780</th>\n",
       "      <td>105780</td>\n",
       "      <td>174363</td>\n",
       "      <td>174364</td>\n",
       "      <td>How can I develop android app?</td>\n",
       "      <td>NaN</td>\n",
       "      <td>0</td>\n",
       "    </tr>\n",
       "    <tr>\n",
       "      <th>201841</th>\n",
       "      <td>201841</td>\n",
       "      <td>303951</td>\n",
       "      <td>174364</td>\n",
       "      <td>How can I create an Android app?</td>\n",
       "      <td>NaN</td>\n",
       "      <td>0</td>\n",
       "    </tr>\n",
       "    <tr>\n",
       "      <th>363362</th>\n",
       "      <td>363362</td>\n",
       "      <td>493340</td>\n",
       "      <td>493341</td>\n",
       "      <td>NaN</td>\n",
       "      <td>My Chinese name is Haichao Yu. What English na...</td>\n",
       "      <td>0</td>\n",
       "    </tr>\n",
       "  </tbody>\n",
       "</table>\n",
       "</div>"
      ],
      "text/plain": [
       "            id    qid1    qid2                         question1  \\\n",
       "105780  105780  174363  174364    How can I develop android app?   \n",
       "201841  201841  303951  174364  How can I create an Android app?   \n",
       "363362  363362  493340  493341                               NaN   \n",
       "\n",
       "                                                question2  is_duplicate  \n",
       "105780                                                NaN             0  \n",
       "201841                                                NaN             0  \n",
       "363362  My Chinese name is Haichao Yu. What English na...             0  "
      ]
     },
     "execution_count": 7,
     "metadata": {},
     "output_type": "execute_result"
    }
   ],
   "source": [
    "#check how many questions with any null value\n",
    "nan_count = df_train[df_train.isnull().any(1)]\n",
    "nan_count"
   ]
  },
  {
   "cell_type": "code",
   "execution_count": 8,
   "metadata": {},
   "outputs": [],
   "source": [
    "df_train[df_train.isnull().any(1)]\n",
    "df_train = df_train.fillna('') #Fill null values with '' string"
   ]
  },
  {
   "cell_type": "code",
   "execution_count": 9,
   "metadata": {},
   "outputs": [
    {
     "data": {
      "text/html": [
       "<div>\n",
       "<style scoped>\n",
       "    .dataframe tbody tr th:only-of-type {\n",
       "        vertical-align: middle;\n",
       "    }\n",
       "\n",
       "    .dataframe tbody tr th {\n",
       "        vertical-align: top;\n",
       "    }\n",
       "\n",
       "    .dataframe thead th {\n",
       "        text-align: right;\n",
       "    }\n",
       "</style>\n",
       "<table border=\"1\" class=\"dataframe\">\n",
       "  <thead>\n",
       "    <tr style=\"text-align: right;\">\n",
       "      <th></th>\n",
       "      <th>id</th>\n",
       "      <th>qid1</th>\n",
       "      <th>qid2</th>\n",
       "      <th>question1</th>\n",
       "      <th>question2</th>\n",
       "      <th>is_duplicate</th>\n",
       "    </tr>\n",
       "  </thead>\n",
       "  <tbody>\n",
       "  </tbody>\n",
       "</table>\n",
       "</div>"
      ],
      "text/plain": [
       "Empty DataFrame\n",
       "Columns: [id, qid1, qid2, question1, question2, is_duplicate]\n",
       "Index: []"
      ]
     },
     "execution_count": 9,
     "metadata": {},
     "output_type": "execute_result"
    }
   ],
   "source": [
    "#Re-check how many questions with any null value\n",
    "nan_count = df_train[df_train.isnull().any(1)]\n",
    "nan_count #Finally the we found the question with no null values "
   ]
  },
  {
   "cell_type": "code",
   "execution_count": 10,
   "metadata": {},
   "outputs": [
    {
     "name": "stdout",
     "output_type": "stream",
     "text": [
      "<class 'pandas.core.frame.DataFrame'>\n",
      "RangeIndex: 404290 entries, 0 to 404289\n",
      "Data columns (total 6 columns):\n",
      "id              404290 non-null int64\n",
      "qid1            404290 non-null int64\n",
      "qid2            404290 non-null int64\n",
      "question1       404290 non-null object\n",
      "question2       404290 non-null object\n",
      "is_duplicate    404290 non-null int64\n",
      "dtypes: int64(4), object(2)\n",
      "memory usage: 18.5+ MB\n"
     ]
    }
   ],
   "source": [
    "df_train.info()"
   ]
  },
  {
   "cell_type": "code",
   "execution_count": 11,
   "metadata": {},
   "outputs": [
    {
     "data": {
      "text/plain": [
       "is_duplicate\n",
       "0    255027\n",
       "1    149263\n",
       "Name: id, dtype: int64"
      ]
     },
     "execution_count": 11,
     "metadata": {},
     "output_type": "execute_result"
    }
   ],
   "source": [
    "df_train.groupby(\"is_duplicate\")['id'].count() #count the number of 'duplicate' and 'non-duplicate' question"
   ]
  },
  {
   "cell_type": "code",
   "execution_count": 12,
   "metadata": {},
   "outputs": [
    {
     "data": {
      "text/plain": [
       "<matplotlib.axes._subplots.AxesSubplot at 0x3297ea20>"
      ]
     },
     "execution_count": 12,
     "metadata": {},
     "output_type": "execute_result"
    },
    {
     "data": {
      "image/png": "[encoded data removed]",
      "text/plain": [
       "<matplotlib.figure.Figure at 0x3297e438>"
      ]
     },
     "metadata": {},
     "output_type": "display_data"
    }
   ],
   "source": [
    "df_train.groupby(\"is_duplicate\")['id'].count().plot.bar() #plot the graph for the above data"
   ]
  },
  {
   "cell_type": "code",
   "execution_count": 13,
   "metadata": {},
   "outputs": [
    {
     "name": "stdout",
     "output_type": "stream",
     "text": [
      "Percentage of non-Duplicate Questions: 63 percentage\n"
     ]
    }
   ],
   "source": [
    "is_duplicate0 = len(df_train[df_train['is_duplicate']==0])\n",
    "is_duplicate0/len(df_train)\n",
    "print(\"Percentage of non-Duplicate Questions: %d percentage\"%((is_duplicate0/len(df_train))*100))"
   ]
  },
  {
   "cell_type": "code",
   "execution_count": 14,
   "metadata": {},
   "outputs": [
    {
     "name": "stdout",
     "output_type": "stream",
     "text": [
      "Percentage of Duplicate Questions: 36 percentage\n"
     ]
    }
   ],
   "source": [
    "is_duplicate1 = len(df_train[df_train['is_duplicate']==1])\n",
    "is_duplicate1/len(df_train)\n",
    "\n",
    "print(\"Percentage of Duplicate Questions: %d percentage\"%((is_duplicate1/len(df_train))*100))"
   ]
  },
  {
   "cell_type": "code",
   "execution_count": 15,
   "metadata": {},
   "outputs": [
    {
     "data": {
      "image/png": "[encoded data removed]",
      "text/plain": [
       "<matplotlib.figure.Figure at 0x32ce5550>"
      ]
     },
     "metadata": {},
     "output_type": "display_data"
    }
   ],
   "source": [
    "x = [\"Unique Questions\" , \"Repeated Questions\"]\n",
    "y =  [unique_qsts , qs_morethan_onetime]\n",
    "\n",
    "plt.figure(figsize=(10, 6))\n",
    "plt.title (\"Plot representing unique and repeated questions  \")\n",
    "sns.barplot(x,y)\n",
    "plt.show()"
   ]
  },
  {
   "cell_type": "code",
   "execution_count": 16,
   "metadata": {},
   "outputs": [
    {
     "name": "stdout",
     "output_type": "stream",
     "text": [
      "Total Number of pair_duplicates groups:  404290\n",
      "Total Number of row:  404290\n",
      "Total duplicate pairs:  0\n"
     ]
    }
   ],
   "source": [
    "#Check whether there are any repeated pair of questions\n",
    "pair_duplicates  = df_train[['qid1','qid2','is_duplicate']].groupby(['qid1','qid2']).count().reset_index()\n",
    "print('Total Number of pair_duplicates groups: ',pair_duplicates.shape[0])\n",
    "print('Total Number of row: ',df_train.shape[0]) #If both count are equal then there are no duplicates\n",
    "print(\"Total duplicate pairs: \",(df_train.shape[0] - pair_duplicates.shape[0]))"
   ]
  },
  {
   "cell_type": "markdown",
   "metadata": {},
   "source": [
    "### Overall info about train Data"
   ]
  },
  {
   "cell_type": "code",
   "execution_count": 17,
   "metadata": {},
   "outputs": [
    {
     "name": "stdout",
     "output_type": "stream",
     "text": [
      "Total number of question pairs in training dataset:  404290\n",
      "Total number of unique questions in training dataset:  537933\n",
      "In Train dataset: \n",
      "Total percentage of is_duplicate=0:  63.08 %\n",
      "Total percentage of is_duplicate=1:  36.92 %\n"
     ]
    }
   ],
   "source": [
    "print('Total number of question pairs in training dataset: ', len(df_train))\n",
    "print('Total number of unique questions in training dataset: ', len(unique_qid))\n",
    "print(\"In Train dataset: \")\n",
    "print('Total percentage of is_duplicate=0: ', round((is_duplicate0/(is_duplicate0+is_duplicate1))*100, 2), \"%\")\n",
    "print('Total percentage of is_duplicate=1: ', round((is_duplicate1/(is_duplicate0+is_duplicate1))*100, 2), \"%\")"
   ]
  },
  {
   "cell_type": "markdown",
   "metadata": {},
   "source": [
    "###  Feature extraction "
   ]
  },
  {
   "cell_type": "markdown",
   "metadata": {},
   "source": [
    "1. **q1_len** = Length of Question-1\n",
    "2. **q2_len** = Length of Question-2\n",
    "3. **q1_no_words** = Number of words in Question-1\n",
    "4. **q2_no_words** = Number of words in Question-2\n",
    "5. **total_uni_words** = Total number of unique words in Question-1 and Question-2, Combine and find unique.\n",
    "6. **common_words** = Total number of common words in both Question-1 and Question-2\n",
    "7. **word_share** = Total number of words share(common_words/total_words)\n",
    "8. **total_words** = Total number of words unique words in Question-1 and Question-2, find Unique in each and add them."
   ]
  },
  {
   "cell_type": "code",
   "execution_count": 18,
   "metadata": {},
   "outputs": [
    {
     "data": {
      "text/html": [
       "<div>\n",
       "<style scoped>\n",
       "    .dataframe tbody tr th:only-of-type {\n",
       "        vertical-align: middle;\n",
       "    }\n",
       "\n",
       "    .dataframe tbody tr th {\n",
       "        vertical-align: top;\n",
       "    }\n",
       "\n",
       "    .dataframe thead th {\n",
       "        text-align: right;\n",
       "    }\n",
       "</style>\n",
       "<table border=\"1\" class=\"dataframe\">\n",
       "  <thead>\n",
       "    <tr style=\"text-align: right;\">\n",
       "      <th></th>\n",
       "      <th>id</th>\n",
       "      <th>qid1</th>\n",
       "      <th>qid2</th>\n",
       "      <th>question1</th>\n",
       "      <th>question2</th>\n",
       "      <th>is_duplicate</th>\n",
       "      <th>q1_len</th>\n",
       "      <th>q2_len</th>\n",
       "      <th>q1_no_words</th>\n",
       "      <th>q2_no_words</th>\n",
       "      <th>q1_uni</th>\n",
       "      <th>q2_uni</th>\n",
       "      <th>avg_uwc</th>\n",
       "      <th>total_uni_words</th>\n",
       "      <th>total_words</th>\n",
       "      <th>common_words</th>\n",
       "      <th>word_share</th>\n",
       "    </tr>\n",
       "  </thead>\n",
       "  <tbody>\n",
       "    <tr>\n",
       "      <th>0</th>\n",
       "      <td>0</td>\n",
       "      <td>1</td>\n",
       "      <td>2</td>\n",
       "      <td>What is the step by step guide to invest in sh...</td>\n",
       "      <td>What is the step by step guide to invest in sh...</td>\n",
       "      <td>0</td>\n",
       "      <td>66</td>\n",
       "      <td>57</td>\n",
       "      <td>14</td>\n",
       "      <td>12</td>\n",
       "      <td>12</td>\n",
       "      <td>11</td>\n",
       "      <td>11.5</td>\n",
       "      <td>13</td>\n",
       "      <td>23</td>\n",
       "      <td>10</td>\n",
       "      <td>0.434783</td>\n",
       "    </tr>\n",
       "    <tr>\n",
       "      <th>1</th>\n",
       "      <td>1</td>\n",
       "      <td>3</td>\n",
       "      <td>4</td>\n",
       "      <td>What is the story of Kohinoor (Koh-i-Noor) Dia...</td>\n",
       "      <td>What would happen if the Indian government sto...</td>\n",
       "      <td>0</td>\n",
       "      <td>51</td>\n",
       "      <td>88</td>\n",
       "      <td>8</td>\n",
       "      <td>13</td>\n",
       "      <td>8</td>\n",
       "      <td>12</td>\n",
       "      <td>10.0</td>\n",
       "      <td>16</td>\n",
       "      <td>20</td>\n",
       "      <td>4</td>\n",
       "      <td>0.200000</td>\n",
       "    </tr>\n",
       "    <tr>\n",
       "      <th>2</th>\n",
       "      <td>2</td>\n",
       "      <td>5</td>\n",
       "      <td>6</td>\n",
       "      <td>How can I increase the speed of my internet co...</td>\n",
       "      <td>How can Internet speed be increased by hacking...</td>\n",
       "      <td>0</td>\n",
       "      <td>73</td>\n",
       "      <td>59</td>\n",
       "      <td>14</td>\n",
       "      <td>10</td>\n",
       "      <td>14</td>\n",
       "      <td>10</td>\n",
       "      <td>12.0</td>\n",
       "      <td>20</td>\n",
       "      <td>24</td>\n",
       "      <td>4</td>\n",
       "      <td>0.166667</td>\n",
       "    </tr>\n",
       "    <tr>\n",
       "      <th>3</th>\n",
       "      <td>3</td>\n",
       "      <td>7</td>\n",
       "      <td>8</td>\n",
       "      <td>Why am I mentally very lonely? How can I solve...</td>\n",
       "      <td>Find the remainder when [math]23^{24}[/math] i...</td>\n",
       "      <td>0</td>\n",
       "      <td>50</td>\n",
       "      <td>65</td>\n",
       "      <td>11</td>\n",
       "      <td>9</td>\n",
       "      <td>10</td>\n",
       "      <td>9</td>\n",
       "      <td>9.5</td>\n",
       "      <td>19</td>\n",
       "      <td>19</td>\n",
       "      <td>0</td>\n",
       "      <td>0.000000</td>\n",
       "    </tr>\n",
       "    <tr>\n",
       "      <th>4</th>\n",
       "      <td>4</td>\n",
       "      <td>9</td>\n",
       "      <td>10</td>\n",
       "      <td>Which one dissolve in water quikly sugar, salt...</td>\n",
       "      <td>Which fish would survive in salt water?</td>\n",
       "      <td>0</td>\n",
       "      <td>76</td>\n",
       "      <td>39</td>\n",
       "      <td>13</td>\n",
       "      <td>7</td>\n",
       "      <td>13</td>\n",
       "      <td>7</td>\n",
       "      <td>10.0</td>\n",
       "      <td>18</td>\n",
       "      <td>20</td>\n",
       "      <td>2</td>\n",
       "      <td>0.100000</td>\n",
       "    </tr>\n",
       "  </tbody>\n",
       "</table>\n",
       "</div>"
      ],
      "text/plain": [
       "   id  qid1  qid2                                          question1  \\\n",
       "0   0     1     2  What is the step by step guide to invest in sh...   \n",
       "1   1     3     4  What is the story of Kohinoor (Koh-i-Noor) Dia...   \n",
       "2   2     5     6  How can I increase the speed of my internet co...   \n",
       "3   3     7     8  Why am I mentally very lonely? How can I solve...   \n",
       "4   4     9    10  Which one dissolve in water quikly sugar, salt...   \n",
       "\n",
       "                                           question2  is_duplicate  q1_len  \\\n",
       "0  What is the step by step guide to invest in sh...             0      66   \n",
       "1  What would happen if the Indian government sto...             0      51   \n",
       "2  How can Internet speed be increased by hacking...             0      73   \n",
       "3  Find the remainder when [math]23^{24}[/math] i...             0      50   \n",
       "4            Which fish would survive in salt water?             0      76   \n",
       "\n",
       "   q2_len  q1_no_words  q2_no_words  q1_uni  q2_uni  avg_uwc  total_uni_words  \\\n",
       "0      57           14           12      12      11     11.5               13   \n",
       "1      88            8           13       8      12     10.0               16   \n",
       "2      59           14           10      14      10     12.0               20   \n",
       "3      65           11            9      10       9      9.5               19   \n",
       "4      39           13            7      13       7     10.0               18   \n",
       "\n",
       "   total_words  common_words  word_share  \n",
       "0           23            10    0.434783  \n",
       "1           20             4    0.200000  \n",
       "2           24             4    0.166667  \n",
       "3           19             0    0.000000  \n",
       "4           20             2    0.100000  "
      ]
     },
     "execution_count": 18,
     "metadata": {},
     "output_type": "execute_result"
    }
   ],
   "source": [
    "df_train['q1_len'] = df_train['question1'].str.len()\n",
    "df_train['q2_len'] = df_train['question2'].str.len()\n",
    "df_train['q1_no_words'] = df_train['question1'].apply(lambda row: len(row.split()))\n",
    "df_train['q2_no_words'] = df_train['question2'].apply(lambda row: len(row.split()))\n",
    "\n",
    "df_train['q1_uni'] = df_train.apply(lambda row: len(set(row['question1'].lower().strip().split())), axis=1)\n",
    "df_train['q2_uni'] = df_train.apply(lambda row: len(set(row['question2'].lower().strip().split())), axis=1)\n",
    "df_train['avg_uwc'] = df_train.apply(lambda row: (row['q1_uni']+row['q2_uni'])/2.0, axis=1)\n",
    "def total_uni_words(row):\n",
    "    q1_w = row['question1'].lower().strip().split()\n",
    "    q2_w = row['question2'].lower().strip().split()\n",
    "    total_w = len(set(q1_w + q2_w))\n",
    "    return total_w\n",
    "df_train['total_uni_words'] = df_train.apply(total_uni_words, axis=1)\n",
    "\n",
    "def total_words(row):\n",
    "    q1_w = set(row['question1'].lower().strip().split())\n",
    "    q2_w = set(row['question2'].lower().strip().split())\n",
    "    total_w = len(q1_w)+ len(q2_w)\n",
    "    return total_w\n",
    "\n",
    "df_train['total_words'] = df_train.apply(total_words, axis=1)\n",
    "\n",
    "def common_words(row):\n",
    "    q1_w = set(row['question1'].lower().strip().split())\n",
    "    q2_w = set(row['question2'].lower().strip().split())\n",
    "    common_w = len(q1_w.intersection(q2_w)) #find common between two sets\n",
    "#     x = set([\"a\",\"b\",\"c\",\"d\"])\n",
    "#     y = set([\"c\",\"d\", 'f'])\n",
    "#     print( y.intersection(x) )\n",
    "#     outPut: {'c', 'd'}\n",
    "    return common_w\n",
    "df_train['common_words'] = df_train.apply(common_words, axis=1)   \n",
    "\n",
    "def word_share(row):\n",
    "    w_share = row['common_words']/row['total_words']\n",
    "    return 1.0*w_share\n",
    "    \n",
    "df_train['word_share'] = df_train.apply(word_share, axis=1)   \n",
    "\n",
    "\n",
    "\n",
    "df_train.head()"
   ]
  },
  {
   "cell_type": "code",
   "execution_count": null,
   "metadata": {},
   "outputs": [],
   "source": []
  },
  {
   "cell_type": "code",
   "execution_count": 19,
   "metadata": {},
   "outputs": [
    {
     "data": {
      "text/plain": [
       "<matplotlib.axes._subplots.AxesSubplot at 0x32d782e8>"
      ]
     },
     "execution_count": 19,
     "metadata": {},
     "output_type": "execute_result"
    },
    {
     "data": {
      "image/png": "[encoded data removed]",
      "text/plain": [
       "<matplotlib.figure.Figure at 0x32d6e630>"
      ]
     },
     "metadata": {},
     "output_type": "display_data"
    }
   ],
   "source": [
    "plt.figure(figsize=(12, 8))\n",
    "\n",
    "sns.violinplot(x = 'is_duplicate', y = 'word_share', data = df_train)"
   ]
  },
  {
   "cell_type": "code",
   "execution_count": 20,
   "metadata": {},
   "outputs": [
    {
     "data": {
      "text/plain": [
       "<matplotlib.axes._subplots.AxesSubplot at 0x32cef668>"
      ]
     },
     "execution_count": 20,
     "metadata": {},
     "output_type": "execute_result"
    },
    {
     "data": {
      "image/png": "[encoded data removed]",
      "text/plain": [
       "<matplotlib.figure.Figure at 0x32f28908>"
      ]
     },
     "metadata": {},
     "output_type": "display_data"
    }
   ],
   "source": [
    "plt.figure(figsize=(12, 8))\n",
    "\n",
    "sns.violinplot(x = 'is_duplicate', y = 'common_words', data = df_train)"
   ]
  },
  {
   "cell_type": "code",
   "execution_count": 21,
   "metadata": {},
   "outputs": [
    {
     "data": {
      "text/plain": [
       "<matplotlib.axes._subplots.AxesSubplot at 0x40e51630>"
      ]
     },
     "execution_count": 21,
     "metadata": {},
     "output_type": "execute_result"
    },
    {
     "data": {
      "image/png": "[encoded data removed]",
      "text/plain": [
       "<matplotlib.figure.Figure at 0x40e20d30>"
      ]
     },
     "metadata": {},
     "output_type": "display_data"
    }
   ],
   "source": [
    "plt.figure(figsize=(12, 8))\n",
    "\n",
    "sns.violinplot(x = 'is_duplicate', y = 'total_uni_words', data = df_train)"
   ]
  },
  {
   "cell_type": "code",
   "execution_count": 22,
   "metadata": {},
   "outputs": [
    {
     "name": "stdout",
     "output_type": "stream",
     "text": [
      "Shortest length of the question in Question-1: 0\n",
      "Shortest length of the question in Question-2:  0\n"
     ]
    }
   ],
   "source": [
    "#Some Analysis of extracted feature\n",
    "\n",
    "print(\"Shortest length of the question in Question-1: %d\"%min(df_train['q1_no_words']))\n",
    "print(\"Shortest length of the question in Question-2:  %d\"%min(df_train['q2_no_words']))"
   ]
  },
  {
   "cell_type": "code",
   "execution_count": 23,
   "metadata": {},
   "outputs": [
    {
     "name": "stdout",
     "output_type": "stream",
     "text": [
      "Shortest length of the question in Question-1: 1\n",
      "Shortest length of the question in Question-2:  1\n"
     ]
    }
   ],
   "source": [
    "df_train = df_train[df_train['q1_no_words']>0]\n",
    "df_train = df_train[df_train['q2_no_words']>0]\n",
    "print(\"Shortest length of the question in Question-1: %d\"%min(df_train['q1_no_words']))\n",
    "print(\"Shortest length of the question in Question-2:  %d\"%min(df_train['q2_no_words']))"
   ]
  },
  {
   "cell_type": "code",
   "execution_count": 24,
   "metadata": {},
   "outputs": [
    {
     "name": "stdout",
     "output_type": "stream",
     "text": [
      "Total number of question with min length in Question-1:  69\n",
      "Total number of question with min length in Question-2:  25\n"
     ]
    }
   ],
   "source": [
    "# Now find how many number of questions with min length\n",
    "print(\"Total number of question with min length in Question-1: \",df_train[df_train['q1_no_words']==1].shape[0])\n",
    "print(\"Total number of question with min length in Question-2: \",df_train[df_train['q2_no_words']==1].shape[0])"
   ]
  },
  {
   "cell_type": "code",
   "execution_count": null,
   "metadata": {},
   "outputs": [],
   "source": []
  },
  {
   "cell_type": "markdown",
   "metadata": {},
   "source": [
    "### PreProcessing the text"
   ]
  },
  {
   "cell_type": "code",
   "execution_count": 25,
   "metadata": {},
   "outputs": [],
   "source": [
    "from nltk.corpus import stopwords\n",
    "from nltk.stem import PorterStemmer\n",
    "from bs4 import BeautifulSoup\n",
    "import re\n",
    "stop_words = stopwords.words(\"english\")"
   ]
  },
  {
   "cell_type": "code",
   "execution_count": null,
   "metadata": {},
   "outputs": [],
   "source": [
    "\n",
    "def preProcess(x):\n",
    "    x = str(x).lower()\n",
    "    x = x.replace(\"won't\", \"will not\")\\\n",
    "            .replace(\"cannot\", \"can not\")\\\n",
    "            .replace(\"can't\", \"can not\")\\\n",
    "            .replace(\"n't\", \" not\")\\\n",
    "            .replace(\"what's\", \"what is\")\\\n",
    "            .replace(\"it's\", \"it is\")\\\n",
    "            .replace(\"i'm\", \"i am\")\\\n",
    "            .replace(\"'re\", \" are\")\\\n",
    "            .replace(\"%\", \" percent \")\\\n",
    "            .replace(\"€\", \" euro \")\\\n",
    "            .replace(\"'ll\", \" will\")\\\n",
    "            .replace(\",000,000\", \"m\")\\\n",
    "            .replace(\",000\", \"k\")\n",
    "    \n",
    "    porter = PorterStemmer()\n",
    "    if type(x) == type(''):\n",
    "        x = porter.stem(x)\n",
    "        temp = BeautifulSoup(x)\n",
    "        x = temp.get_text()\n",
    "#     print(x)\n",
    "    return x"
   ]
  },
  {
   "cell_type": "code",
   "execution_count": null,
   "metadata": {},
   "outputs": [],
   "source": [
    "df_train['question1'] = df_train[\"question1\"].fillna(\"\").apply(preProcess)"
   ]
  },
  {
   "cell_type": "code",
   "execution_count": null,
   "metadata": {},
   "outputs": [],
   "source": [
    "df_train['question1'].head()"
   ]
  },
  {
   "cell_type": "code",
   "execution_count": null,
   "metadata": {},
   "outputs": [],
   "source": [
    "df_train['question2'] = df_train[\"question2\"].fillna(\"\").apply(preProcess)"
   ]
  },
  {
   "cell_type": "code",
   "execution_count": null,
   "metadata": {},
   "outputs": [],
   "source": [
    "df_train['avg_len'] = df_train.apply(lambda row: (row['q1_len']+row['q2_len'])/2.0 , axis=1)\n",
    "df_train['cwc_min'] = df_train.apply(lambda row: row['common_words']/(min(row['q1_len'], row['q2_len'])) , axis=1)\n",
    "df_train['cwc_max'] = df_train.apply(lambda row: row['common_words']/(max(row['q1_len'], row['q2_len'])) , axis=1)\n",
    "df_train['is_fw_same'] = df_train.apply(lambda row: (row['question1'].lower().strip().split()[0] == row['question2'].lower().strip().split()[0]) , axis=1)\n",
    "df_train['is_lw_same'] = df_train.apply(lambda row: (row['question1'].lower().strip().split()[-1] == row['question2'].lower().strip().split()[-1]) , axis=1)\n",
    "\n",
    "df_train['cwc_min'] = df_train.apply(lambda row: row['common_words']/(min(row['q1_len'], row['q2_len'])) , axis=1)\n",
    "df_train['cwc_max'] = df_train.apply(lambda row: row['common_words']/(min(row['q1_len'], row['q2_len'])) , axis=1)"
   ]
  },
  {
   "cell_type": "code",
   "execution_count": null,
   "metadata": {},
   "outputs": [],
   "source": [
    "df_train.head()"
   ]
  },
  {
   "cell_type": "markdown",
   "metadata": {},
   "source": [
    "### Feature Extraction from fuzzywuzzy"
   ]
  },
  {
   "cell_type": "code",
   "execution_count": null,
   "metadata": {},
   "outputs": [],
   "source": [
    "from fuzzywuzzy import fuzz\n",
    "from fuzzywuzzy import process"
   ]
  },
  {
   "cell_type": "markdown",
   "metadata": {},
   "source": [
    "\n",
    "Definations\n",
    "\n",
    "1. Simple Ratio: Compare two sequences and produce the ratio of those two\n",
    "2. Partial Ratio: Find the max\n",
    "3. Token Sort Ratio: The token sort approach involves tokenizing the string in question, sorting the tokens alphabetically, and then joining them back into a string. \n",
    "4. Token Set Ratio: we tokenize both strings, but instead of immediately sorting and comparing, we split the tokens into two groups: intersection and remainder. We use those sets to build up a comparison string.\n",
    "\n"
   ]
  },
  {
   "cell_type": "code",
   "execution_count": null,
   "metadata": {},
   "outputs": [],
   "source": [
    "def fuzzy_features(row):\n",
    "    simple_ratio = fuzz.ratio(row['question1'],row['question2'])\n",
    "    partial_ratio =  fuzz.partial_ratio(row['question1'],row['question2'])\n",
    "    token_sort_ratio = fuzz.token_sort_ratio(row['question1'],row['question2'])\n",
    "    token_set_ratio =  fuzz.token_set_ratio(row['question1'],row['question2'])\n",
    "    partial_token_set_ratio = fuzz.partial_token_set_ratio(row['question1'],row['question2'])\n",
    "    partial_token_sort_ratio = fuzz.partial_token_sort_ratio(row['question1'],row['question2'])\n",
    "    \n",
    "    return [simple_ratio, partial_ratio, token_sort_ratio, token_set_ratio, partial_token_set_ratio,partial_token_sort_ratio]"
   ]
  },
  {
   "cell_type": "code",
   "execution_count": null,
   "metadata": {},
   "outputs": [],
   "source": [
    "fuzzy_features = df_train.apply(fuzzy_features, axis=1)"
   ]
  },
  {
   "cell_type": "code",
   "execution_count": null,
   "metadata": {},
   "outputs": [],
   "source": [
    "from difflib import SequenceMatcher\n",
    "import math\n",
    "df_train['difflib_similarity'] = df_train.apply(lambda x: SequenceMatcher(None, str(x['question1']), str(x['question2'])).ratio(), axis=1)\n",
    "\n",
    "# Compute Jaccard Similarity Score \n",
    "def jaccard_similarity_str(row):\n",
    "    intersection_cardinality = len(set.intersection(*[set(row['question1']), set(row['question2'])]))\n",
    "    union_cardinality = len(set.union(*[set(row['question1']), set(row['question2'])]))\n",
    "    return intersection_cardinality/float(union_cardinality)\n",
    "def cosine_similarity_str(row):\n",
    "    intersection_cardinality = len(set.intersection(*[set(row['question1']), set(row['question2'])]))\n",
    "    sqrt_product = math.sqrt(len(row['question1'])) * math.sqrt(len(row['question2']))\n",
    "    return intersection_cardinality/float(sqrt_product)\n",
    "df_train['jaccard_similarity_str'] = df_train.apply(jaccard_similarity_str, axis=1)\n",
    "df_train['cosine_similarity_str'] = df_train.apply(cosine_similarity_str, axis=1)\n",
    "\n",
    "\n",
    "# jacard_score =  len(common_words)/(len(q1_words) + len(q2_words) - len(common_words))  \n",
    "# cosine_score = len(common_words)/(pow(len(q1_words),0.5)*pow(len(q2_words),0.5))"
   ]
  },
  {
   "cell_type": "code",
   "execution_count": null,
   "metadata": {},
   "outputs": [],
   "source": [
    "# fuzzy_features.values\n",
    "temp = np.vstack(fuzzy_features.values)\n",
    "df_train['simple_ratio'] = temp[:,0]\n",
    "df_train['partial_ratio'] = temp[:,1]\n",
    "df_train['token_sort_ratio'] = temp[:,2]\n",
    "df_train['token_set_ratio'] = temp[:,3]\n",
    "df_train['partial_token_set_ratio'] = temp[:,4]\n",
    "df_train['partial_token_sort_ratio'] = temp[:,5]"
   ]
  },
  {
   "cell_type": "code",
   "execution_count": null,
   "metadata": {},
   "outputs": [],
   "source": [
    "df_train.head()"
   ]
  },
  {
   "cell_type": "markdown",
   "metadata": {},
   "source": [
    "### Analyzing the extracted features"
   ]
  },
  {
   "cell_type": "code",
   "execution_count": null,
   "metadata": {},
   "outputs": [],
   "source": [
    "df_duplicate = df_train[df_train['is_duplicate'] == 1]\n",
    "df_non_duplicate = df_train[df_train['is_duplicate'] == 0]"
   ]
  },
  {
   "cell_type": "code",
   "execution_count": null,
   "metadata": {},
   "outputs": [],
   "source": [
    "duplicate_array = np.dstack([df_duplicate[\"question1\"], df_duplicate[\"question2\"]]).flatten()\n",
    "non_duplicate_array = np.dstack([df_non_duplicate[\"question1\"], df_non_duplicate[\"question2\"]]).flatten()"
   ]
  },
  {
   "cell_type": "code",
   "execution_count": null,
   "metadata": {},
   "outputs": [],
   "source": [
    "text_dulicate = \" \".join(duplicate_array)\n",
    "text_non_dulicate = \" \".join(non_duplicate_array)"
   ]
  },
  {
   "cell_type": "code",
   "execution_count": null,
   "metadata": {},
   "outputs": [],
   "source": [
    "from wordcloud import WordCloud"
   ]
  },
  {
   "cell_type": "code",
   "execution_count": null,
   "metadata": {},
   "outputs": [],
   "source": [
    "wc = WordCloud(background_color=\"white\", max_words=len(text_dulicate), stopwords=stop_words)\n",
    "wc.generate(text_dulicate)\n",
    "print (\"Word Cloud for Duplicate Question pairs\")\n",
    "plt.figure(figsize=(16, 9))\n",
    "plt.imshow(wc, interpolation='bilinear')\n",
    "plt.axis(\"off\")\n",
    "plt.show()"
   ]
  },
  {
   "cell_type": "code",
   "execution_count": null,
   "metadata": {},
   "outputs": [],
   "source": [
    "wc = WordCloud(background_color=\"white\", max_words=len(text_non_dulicate), stopwords=stop_words)\n",
    "wc.generate(text_non_dulicate)\n",
    "print (\"Word Cloud for non Duplicate Question pairs\")\n",
    "plt.figure(figsize=(16, 9))\n",
    "plt.imshow(wc, interpolation='bilinear')\n",
    "plt.axis(\"off\")\n",
    "plt.show()"
   ]
  },
  {
   "cell_type": "code",
   "execution_count": null,
   "metadata": {},
   "outputs": [],
   "source": [
    "# we convert all the features into numaric before we apply any model\n",
    "# ['id', 'qid1', 'qid2', 'question1', 'question2']\n",
    "cols = list(df_train.columns)\n",
    "for i in cols:\n",
    "    if i not in ['id', 'qid1', 'qid2', 'question1', 'question2']:\n",
    "        df_train[i] = df_train[i].apply(pd.to_numeric)\n",
    "        print(i)"
   ]
  },
  {
   "cell_type": "code",
   "execution_count": null,
   "metadata": {},
   "outputs": [],
   "source": [
    "import seaborn as sns\n",
    "cor = df_train[['q1_len', 'q2_len', 'q1_no_words', 'q2_no_words','is_fw_same','is_lw_same', 'total_uni_words', 'total_words','difflib_similarity', 'common_words', 'word_share', 'simple_ratio', 'partial_ratio', 'token_sort_ratio', 'token_set_ratio','partial_token_sort_ratio','partial_token_set_ratio', 'is_duplicate']].corr()\n",
    "sns.set(font_scale=1.25)\n",
    "plt.figure(figsize=(16,9))\n",
    "hm = sns.heatmap(cor, cbar=True, annot=True, square=True,cmap=\"YlGnBu\",\n",
    "                 fmt='.2f', annot_kws={'size': 10}, \n",
    "                 yticklabels=list(cor.columns), xticklabels=list(cor.columns))\n",
    "plt.suptitle(' Correlations Heat Map for attributes', fontsize=16, fontweight='bold')\n",
    "plt.show()\n",
    "\n",
    "\n",
    "# # ref: https://www.kaggle.com/fg1983/data-exploration-and-price-prediction-house-sales"
   ]
  },
  {
   "cell_type": "code",
   "execution_count": null,
   "metadata": {},
   "outputs": [],
   "source": [
    "df_train.head()"
   ]
  },
  {
   "cell_type": "markdown",
   "metadata": {},
   "source": [
    "### Random train test split"
   ]
  },
  {
   "cell_type": "code",
   "execution_count": null,
   "metadata": {},
   "outputs": [],
   "source": [
    "from sklearn.feature_extraction.text import TfidfVectorizer\n",
    "from sklearn.model_selection import train_test_split\n",
    "from sklearn.linear_model import LogisticRegression\n",
    "from sklearn.metrics import log_loss, accuracy_score, roc_auc_score\n",
    "# define tfidf vectorizer \n",
    "tfidf = TfidfVectorizer(analyzer = 'word',token_pattern=r'\\w{1,}',\n",
    "                        ngram_range=(1,2),use_idf=1,smooth_idf=1,sublinear_tf=1,\n",
    "                        stop_words = 'english',\n",
    "                        lowercase = True,\n",
    "                        max_features = None,\n",
    "                        norm = 'l1')"
   ]
  },
  {
   "cell_type": "code",
   "execution_count": null,
   "metadata": {},
   "outputs": [],
   "source": [
    "# text_dulicate\n",
    "s1 = pd.Series(df_train['question1'].tolist())\n",
    "s2 = pd.Series(df_train['question2'].tolist())\n",
    "BagOfWords = pd.concat([s1, s2])"
   ]
  },
  {
   "cell_type": "code",
   "execution_count": null,
   "metadata": {},
   "outputs": [],
   "source": [
    "tfidf.fit(BagOfWords)"
   ]
  },
  {
   "cell_type": "code",
   "execution_count": null,
   "metadata": {},
   "outputs": [],
   "source": [
    "train_q1_tfidf = tfidf.transform(df_train['question1'])\n",
    "train_q2_tfidf = tfidf.transform(df_train['question2'])"
   ]
  },
  {
   "cell_type": "code",
   "execution_count": null,
   "metadata": {},
   "outputs": [],
   "source": [
    "df_train.columns"
   ]
  },
  {
   "cell_type": "code",
   "execution_count": null,
   "metadata": {},
   "outputs": [],
   "source": [
    "import sklearn\n",
    "from sklearn.ensemble import RandomForestClassifier, AdaBoostClassifier\n",
    "from sklearn.linear_model import LogisticRegression\n",
    "from sklearn.ensemble import ExtraTreesClassifier\n",
    "from sklearn.tree import DecisionTreeClassifier\n",
    "from sklearn import svm\n",
    "from sklearn.naive_bayes import GaussianNB \n",
    "from sklearn.preprocessing import MinMaxScaler\n",
    "from sklearn.metrics import confusion_matrix\n",
    "from sklearn import metrics\n",
    "from sklearn.metrics import classification_report, log_loss\n",
    "from sklearn.metrics import f1_score\n",
    "from termcolor import colored"
   ]
  },
  {
   "cell_type": "code",
   "execution_count": null,
   "metadata": {},
   "outputs": [],
   "source": [
    "bf = ['q1_len', 'q2_len', 'q1_no_words', 'q2_no_words', 'q1_uni', 'q2_uni','avg_uwc', 'total_uni_words', 'total_words', 'common_words','word_share', 'avg_len','is_fw_same', 'is_lw_same']\n",
    "ff = ['q1_len', 'q2_len', 'q1_no_words', 'q2_no_words', 'q1_uni', 'q2_uni','avg_uwc', 'total_uni_words', 'total_words', 'common_words', 'word_share', 'avg_len', 'cwc_min', 'cwc_max', 'is_fw_same', 'is_lw_same', 'simple_ratio', 'partial_ratio', 'token_sort_ratio', 'token_set_ratio', 'partial_token_set_ratio', 'partial_token_sort_ratio']\n",
    "af  =['q1_len', 'q2_len', 'q1_no_words', 'q2_no_words', 'q1_uni', 'q2_uni', 'avg_uwc', 'total_uni_words', 'total_words', 'common_words','word_share', 'avg_len', 'cwc_min', 'cwc_max', 'is_fw_same', 'is_lw_same', 'difflib_similarity', 'simple_ratio', 'partial_ratio','token_sort_ratio', 'token_set_ratio', 'partial_token_set_ratio','partial_token_sort_ratio', 'jaccard_similarity_str','cosine_similarity_str']\n",
    "features = {\"0\": bf, \"1\": ff, \"2\": af}"
   ]
  },
  {
   "cell_type": "code",
   "execution_count": null,
   "metadata": {
    "scrolled": false
   },
   "outputs": [],
   "source": [
    "y = df_train['is_duplicate']\n",
    "for i in features:\n",
    "    X = df_train[features[i]]\n",
    "    X_train, X_valid, y_train, y_valid = train_test_split(X, y, test_size=0.2, random_state=42)\n",
    "    print ('\\n')\n",
    "    print ('\\n')\n",
    "    print ('=================Start of Iter:%s================='%i)\n",
    "    ## Logistic Regression\n",
    "    print( \"Logistic Regression Model for Classificatio:\")\n",
    "    LR = LogisticRegression(C=1.0, penalty='l1')\n",
    "    LR.fit(X_train, y_train)\n",
    "    y_preds = LR.predict(X_valid)\n",
    "    print( \"Logistic Regression Model predictive accuracy:\",colored(metrics.accuracy_score(y_preds, y_valid), 'green'))\n",
    "    print (\"Logistic Regression Model  F1 score:\", metrics.classification_report(y_preds, y_valid))\n",
    "    print (\"Logistic Regression Model log loss:\", metrics.log_loss(y_preds, y_valid))\n",
    "    print ('\\n')\n",
    "\n",
    "    print (\"Gaussian Naive Bayes Model for Classificatio:\")\n",
    "    GNB = GaussianNB()\n",
    "    GNB.fit(X_train, y_train)\n",
    "    y_preds = GNB.predict(X_valid)\n",
    "    print (\"Gaussian Naive Bayes Model predictive accuracy:\", colored(metrics.accuracy_score(y_preds, y_valid), 'green'))\n",
    "    print (\"Gaussian Naive Bayes Model  F1 score:\", metrics.classification_report(y_preds, y_valid))\n",
    "    print (\"Gaussian Naive Bayes Model log loss:\", metrics.log_loss(y_preds, y_valid))\n",
    "    print ('\\n')\n",
    "\n",
    "    print (\"Support Vector Machines Model for Classificatio:\")\n",
    "    sv = svm.SVC(C=1.0, kernel='linear')\n",
    "    sv.fit(X_train, y_train)\n",
    "    y_preds = sv.predict(X_valid)\n",
    "    print (\"Support Vector Machine Model predictive accuracy:\", colored(metrics.accuracy_score(y_preds, y_valid), 'green'))\n",
    "    print (\"Support Vector Machine F1 score:\", metrics.classification_report(y_preds, y_valid))\n",
    "    print (\"Support Vector Machine log loss:\", metrics.log_loss(y_preds, y_valid))\n",
    "    print( '\\n')\n",
    "\n",
    "    print (\"Random Forest Model for Classification:\")\n",
    "    RF = RandomForestClassifier(n_estimators=100, max_depth=10, criterion = 'entropy')\n",
    "    RF.fit(X_train, y_train)\n",
    "    y_preds = RF.predict(X_valid)\n",
    "    print (\"Random Forest Classifier Model predictive accuracy:\", colored(metrics.accuracy_score(y_preds, y_valid), 'green'))\n",
    "    print (\"Random Forest Classifier F1 score:\", metrics.classification_report(y_preds, y_valid))\n",
    "    print (\"Random Forest Classifier log loss:\", metrics.log_loss(y_preds, y_valid))\n",
    "    print ('\\n')\n",
    "\n",
    "    print (\"XGboost Model for Classification:\")\n",
    "    model = xgb.XGBClassifier(max_depth=50, n_estimators=80, learning_rate=0.1, colsample_bytree=.7, gamma=0, reg_alpha=4, objective='binary:logistic', eta=0.3, silent=1, subsample=0.8)\\\n",
    "        .fit(X_train, y_train.values.ravel()) \n",
    "    y_preds = model.predict(X_valid)\n",
    "    print (\"XGboost Classifier Model predictive accuracy:\", colored(metrics.accuracy_score(y_preds, y_valid), 'green'))\n",
    "    print (\"XGboost Classifier F1 score:\", metrics.classification_report(y_preds, y_valid))\n",
    "    print (\"XGboost Classifier log loss:\", metrics.log_loss(y_preds, y_valid))\n",
    "    print ('=================End of Iter:%s================='%i)"
   ]
  },
  {
   "cell_type": "code",
   "execution_count": null,
   "metadata": {},
   "outputs": [],
   "source": []
  }
 ],
 "metadata": {
  "kernelspec": {
   "display_name": "Python 3",
   "language": "python",
   "name": "python3"
  },
  "language_info": {
   "codemirror_mode": {
    "name": "ipython",
    "version": 3
   },
   "file_extension": ".py",
   "mimetype": "text/x-python",
   "name": "python",
   "nbconvert_exporter": "python",
   "pygments_lexer": "ipython3",
   "version": "3.6.4"
  }
 },
 "nbformat": 4,
 "nbformat_minor": 2
}
